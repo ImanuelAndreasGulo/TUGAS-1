{
  "nbformat": 4,
  "nbformat_minor": 0,
  "metadata": {
    "colab": {
      "provenance": [],
      "authorship_tag": "ABX9TyMJ2TH89HXB9t2s0FSYd5mk",
      "include_colab_link": true
    },
    "kernelspec": {
      "name": "python3",
      "display_name": "Python 3"
    },
    "language_info": {
      "name": "python"
    }
  },
  "cells": [
    {
      "cell_type": "markdown",
      "metadata": {
        "id": "view-in-github",
        "colab_type": "text"
      },
      "source": [
        "<a href=\"https://colab.research.google.com/github/ImanuelAndreasGulo/TUGAS-1/blob/main/Untitled0.ipynb\" target=\"_parent\"><img src=\"https://colab.research.google.com/assets/colab-badge.svg\" alt=\"Open In Colab\"/></a>"
      ]
    },
    {
      "cell_type": "code",
      "execution_count": null,
      "metadata": {
        "id": "4XSaqttuh1mk"
      },
      "outputs": [],
      "source": [
        "import numpy as np\n",
        "from scipy import stats\n",
        "import matplotlib.pyplot as plt\n",
        "\n",
        "def calculate_statistics(data):\n",
        "    # a. Mean, Median, Mode\n",
        "    mean = np.mean(data)\n",
        "    median = np.median(data)\n",
        "    mode = stats.mode(data, keepdims=True)[0][0]\n",
        "\n",
        "    # b. Range, Variance, Standard Deviation\n",
        "    data_range = np.ptp(data)\n",
        "    variance = np.var(data, ddof=0)  # Populasi\n",
        "    std_dev = np.std(data, ddof=0)\n",
        "\n",
        "    # c. Frequency Distribution Table\n",
        "    num_bins = int(np.ceil(np.log2(len(data)) + 1))  # Sturges' Rule\n",
        "    counts, bin_edges = np.histogram(data, bins=num_bins)\n",
        "    bin_ranges = [f\"{bin_edges[i]:.2f}-{bin_edges[i+1]:.2f}\" for i in range(len(counts))]\n",
        "\n",
        "    # d. Relative Frequency dan Persentase\n",
        "    total = sum(counts)\n",
        "    rel_freq = [count / total for count in counts]\n",
        "    percentages = [f\"{rf * 100:.2f}%\" for rf in rel_freq]\n",
        "\n",
        "    # e. Histogram Persentase\n",
        "    plt.figure()\n",
        "    plt.hist(data, bins=num_bins, weights=np.ones(len(data)) / len(data) * 100)\n",
        "    plt.title(\"Histogram Persentase\")\n",
        "    plt.xlabel(\"Kelas\")\n",
        "    plt.ylabel(\"Persentase (%)\")\n",
        "    plt.show()\n",
        "\n",
        "    # f. Dot Plot\n",
        "    plt.figure()\n",
        "    plt.plot(data, np.zeros_like(data), 'o')\n",
        "    plt.title(\"Dot Plot\")\n",
        "    plt.show()\n",
        "\n",
        "    # g. Box Plot\n",
        "    plt.figure()\n",
        "    plt.boxplot(data)\n",
        "    plt.title(\"Box Plot\")\n",
        "    plt.show()\n",
        "\n",
        "    # h. Skewness\n",
        "    skewness = stats.skew(data)\n",
        "    skew_type = \"Simetris\" if -0.5 <= skewness <= 0.5 else \"Miring kanan\" if skewness > 0.5 else \"Miring kiri\"\n",
        "\n",
        "    return {\n",
        "        \"Mean\": mean,\n",
        "        \"Median\": median,\n",
        "        \"Mode\": mode,\n",
        "        \"Range\": data_range,\n",
        "        \"Variance\": variance,\n",
        "        \"Standard Deviation\": std_dev,\n",
        "        \"Frequency Distribution\": {\"Kelas\": bin_ranges, \"Frekuensi\": counts, \"Frekuensi Relatif\": rel_freq, \"Persentase\": percentages},\n",
        "        \"Skewness\": f\"{skewness:.2f} ({skew_type})\"\n",
        "    }\n",
        "\n",
        "# Input Data\n",
        "data = list(map(float, input(\"Masukkan data (pisahkan dengan spasi): \").split()))\n",
        "results = calculate_statistics(data)\n",
        "\n",
        "# Output Hasil Statistik\n",
        "print(\"\\n===== Hasil Statistik =====\")\n",
        "for key, value in results.items():\n",
        "    if key == \"Frequency Distribution\":\n",
        "        print(\"\\nTabel Distribusi Frekuensi:\")\n",
        "        print(\"Kelas\\t\\tFrekuensi\\tFrekuensi Relatif\\tPersentase\")\n",
        "        for i in range(len(value[\"Kelas\"])):\n",
        "            print(f\"{value['Kelas'][i]}\\t{value['Frekuensi'][i]}\\t\\t{value['Frekuensi Relatif'][i]:.4f}\\t\\t\\t{value['Persentase'][i]}\")\n",
        "    else:\n",
        "        print(f\"{key}: {value}\")\n"
      ]
    }
  ]
}