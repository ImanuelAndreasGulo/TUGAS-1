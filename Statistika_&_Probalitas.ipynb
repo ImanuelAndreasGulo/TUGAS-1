{
  "nbformat": 4,
  "nbformat_minor": 0,
  "metadata": {
    "colab": {
      "provenance": [],
      "include_colab_link": true
    },
    "kernelspec": {
      "name": "python3",
      "display_name": "Python 3"
    },
    "language_info": {
      "name": "python"
    }
  },
  "cells": [
    {
      "cell_type": "markdown",
      "metadata": {
        "id": "view-in-github",
        "colab_type": "text"
      },
      "source": [
        "<a href=\"https://colab.research.google.com/github/ImanuelAndreasGulo/TUGAS-1/blob/main/Statistika_%26_Probalitas.ipynb\" target=\"_parent\"><img src=\"https://colab.research.google.com/assets/colab-badge.svg\" alt=\"Open In Colab\"/></a>"
      ]
    },
    {
      "cell_type": "code",
      "execution_count": 1,
      "metadata": {
        "id": "hJsMochLEeud"
      },
      "outputs": [],
      "source": [
        "import numpy as np\n",
        "import matplotlib.pyplot as plt\n",
        "import pandas as pd\n",
        "from scipy import stats\n",
        "from itertools import permutations, combinations\n",
        "from math import factorial\n",
        "from scipy.stats import binom, poisson"
      ]
    },
    {
      "cell_type": "code",
      "source": [
        "# Membaca data dari file CSV\n",
        "df = pd.read_csv('/content/student_performance_dataset.csv')\n",
        "\n",
        "# Mengambil kolom Nilai_Matematika untuk analisis\n",
        "data = df['Study_Hours_per_Week'].values\n",
        "\n",
        "# a. Menghitung mean, median, dan mode\n",
        "mean = np.mean(data)\n",
        "median = np.median(data)\n",
        "mode_result = stats.mode(data)\n",
        "\n",
        "# Mode\n",
        "values, counts = np.unique(data, return_counts=True)\n",
        "max_count = np.max(counts)\n",
        "modes = values[counts == max_count]\n",
        "\n",
        "print(\"a. Statistik Dasar:\")\n",
        "print(f\"   Mean: {mean:.2f}\")\n",
        "print(f\"   Median: {median:.2f}\")\n",
        "if len(modes) > 1:\n",
        "    print(f\"  Modus : {', '.join(map(str,modes))} (multimode)\")\n",
        "else:\n",
        "    print(f\"  Modus: {modes[0]}\")\n",
        "\n",
        "# b. Menghitung range, variance, dan standard deviation\n",
        "data_range = np.max(data) - np.min(data)\n",
        "variance = np.var(data, ddof=1)\n",
        "std_dev = np.std(data, ddof=1)\n",
        "\n",
        "print(\"\\nb. Ukuran Penyebaran:\")\n",
        "print(f\"   Range: {data_range}\")\n",
        "print(f\"   Variance: {variance:.2f}\")\n",
        "print(f\"   Standard Deviation: {std_dev:.2f}\")\n",
        "\n",
        "# c. Membuat tabel frequency distribution\n",
        "bins = np.arange(60, 101, 5)  # Kelas: 60-65, 65-70, ..., 95-100\n",
        "freq_dist = pd.cut(data, bins=bins, include_lowest=True, right=False)\n",
        "freq_table = pd.value_counts(freq_dist, sort=False).reset_index()\n",
        "freq_table.columns = ['Range', 'Frequency']\n",
        "\n",
        "# d. Menghitung relative frequency dan persentase\n",
        "total = len(data)\n",
        "freq_table['Relative Frequency'] = freq_table['Frequency'] / total\n",
        "freq_table['Percentage'] = freq_table['Relative Frequency'] * 100\n",
        "\n",
        "print(\"\\nc. & d. Tabel Distribusi Frekuensi:\")\n",
        "print(freq_table.to_string(index=False))\n",
        "\n",
        "# e. Membuat histogram dari distribusi persentase\n",
        "print(\"\\ne. Histogram Distribusi Persentase:\")\n",
        "plt.figure(figsize=(10, 6))\n",
        "plt.hist(data, bins=bins, weights=np.ones_like(data) / total * 100, edgecolor='black')\n",
        "plt.title('Histogram Distribusi Persentase Nilai Matematika')\n",
        "plt.xlabel('Nilai')\n",
        "plt.ylabel('Persentase (%)')\n",
        "plt.grid(True)\n",
        "plt.show()\n",
        "\n",
        "# f. Membuat dot plot\n",
        "print(\"\\nf. Dot Plot:\")\n",
        "plt.figure(figsize=(10, 6))\n",
        "plt.plot(data, np.zeros_like(data), 'o', markersize=5)\n",
        "plt.title('Dot Plot Nilai Matematika')\n",
        "plt.xlabel('Nilai')\n",
        "plt.yticks([])\n",
        "plt.grid(True)\n",
        "plt.show()\n",
        "\n",
        "# g. Membuat box plot\n",
        "print(\"\\ng. Box Plot:\")\n",
        "plt.figure(figsize=(10, 6))\n",
        "plt.boxplot(data, vert=False)\n",
        "plt.title('Box Plot Nilai Matematika')\n",
        "plt.xlabel('Nilai')\n",
        "plt.grid(True)\n",
        "plt.show()\n",
        "\n",
        "# h. Menghitung dan menjelaskan skewness\n",
        "skewness = stats.skew(data)\n",
        "\n",
        "print(\"\\nh. Analisis Skewness:\")\n",
        "print(f\"   Skewness: {skewness:.2f}\")\n",
        "if skewness > 0:\n",
        "    print(\"   Distribusi bersifat positively skewed (condong ke kanan).\")\n",
        "elif skewness < 0:\n",
        "    print(\"   Distribusi bersifat negatively skewed (condong ke kiri).\")\n",
        "else:\n",
        "    print(\"   Distribusi simetris.\")\n",
        "print(\"   Skewness mengukur tingkat asimetri distribusi data. Nilai mendekati 0 menunjukkan distribusi yang simetris.\")"
      ],
      "metadata": {
        "id": "z_fDJhIQF4dZ",
        "colab": {
          "base_uri": "https://localhost:8080/",
          "height": 1000
        },
        "outputId": "f3a704ac-4cd6-425d-a99d-80efe27804ad"
      },
      "execution_count": 3,
      "outputs": [
        {
          "output_type": "stream",
          "name": "stdout",
          "text": [
            "a. Statistik Dasar:\n",
            "   Mean: 26.13\n",
            "   Median: 27.00\n",
            "  Modus: 35\n",
            "\n",
            "b. Ukuran Penyebaran:\n",
            "   Range: 29\n",
            "   Variance: 78.81\n",
            "   Standard Deviation: 8.88\n",
            "\n",
            "c. & d. Tabel Distribusi Frekuensi:\n",
            "    Range  Frequency  Relative Frequency  Percentage\n",
            " [60, 65)          0                 0.0         0.0\n",
            " [65, 70)          0                 0.0         0.0\n",
            " [70, 75)          0                 0.0         0.0\n",
            " [75, 80)          0                 0.0         0.0\n",
            " [80, 85)          0                 0.0         0.0\n",
            " [85, 90)          0                 0.0         0.0\n",
            " [90, 95)          0                 0.0         0.0\n",
            "[95, 100)          0                 0.0         0.0\n",
            "\n",
            "e. Histogram Distribusi Persentase:\n"
          ]
        },
        {
          "output_type": "stream",
          "name": "stderr",
          "text": [
            "<ipython-input-3-dc6324ffab3a>:38: FutureWarning: pandas.value_counts is deprecated and will be removed in a future version. Use pd.Series(obj).value_counts() instead.\n",
            "  freq_table = pd.value_counts(freq_dist, sort=False).reset_index()\n"
          ]
        },
        {
          "output_type": "display_data",
          "data": {
            "text/plain": [
              "<Figure size 1000x600 with 1 Axes>"
            ],
            "image/png": "[encoded data removed]"
          },
          "metadata": {}
        },
        {
          "output_type": "stream",
          "name": "stdout",
          "text": [
            "\n",
            "f. Dot Plot:\n"
          ]
        },
        {
          "output_type": "display_data",
          "data": {
            "text/plain": [
              "<Figure size 1000x600 with 1 Axes>"
            ],
            "image/png": "[encoded data removed]"
          },
          "metadata": {}
        },
        {
          "output_type": "stream",
          "name": "stdout",
          "text": [
            "\n",
            "g. Box Plot:\n"
          ]
        },
        {
          "output_type": "display_data",
          "data": {
            "text/plain": [
              "<Figure size 1000x600 with 1 Axes>"
            ],
            "image/png": "[encoded data removed]"
          },
          "metadata": {}
        },
        {
          "output_type": "stream",
          "name": "stdout",
          "text": [
            "\n",
            "h. Analisis Skewness:\n",
            "   Skewness: -0.24\n",
            "   Distribusi bersifat negatively skewed (condong ke kiri).\n",
            "   Skewness mengukur tingkat asimetri distribusi data. Nilai mendekati 0 menunjukkan distribusi yang simetris.\n"
          ]
        }
      ]
    },
    {
      "cell_type": "code",
      "source": [
        "# Fungsi untuk menghitung permutasi (nPr)\n",
        "def perm(n, r):\n",
        "    return factorial(n) // factorial(n - r)\n",
        "\n",
        "# Fungsi untuk menghitung kombinasi (nCr)\n",
        "def comb(n, r):\n",
        "    return factorial(n) // (factorial(r) * factorial(n - r))\n",
        "\n",
        "# a. Input data dari pengguna\n",
        "print(\"Masukkan data sebagai angka-angka yang dipisahkan oleh spasi (contoh: 1 2 3 4 5):\")\n",
        "try:\n",
        "    data_input = input(\"Data: \")\n",
        "    data = [int(x) for x in data_input.split()]  # Mengubah input menjadi list integer\n",
        "    data_set = set(data)  # Mengubah ke set untuk operasi himpunan\n",
        "    total_data = len(data)\n",
        "except ValueError:\n",
        "    print(\"Error: Masukkan angka yang valid!\")\n",
        "    exit()\n",
        "\n",
        "print(\"\\nData yang dimasukkan:\", data)\n",
        "print(\"Total elemen:\", total_data)\n",
        "\n",
        "# b. Menentukan probabilitas kejadian tertentu\n",
        "print(\"\\nb. Probabilitas Kejadian:\")\n",
        "try:\n",
        "    event_input = input(\"Masukkan nilai kejadian yang ingin dihitung probabilitasnya (pisahkan dengan spasi, contoh: 2 4): \")\n",
        "    event = [int(x) for x in event_input.split()]  # Kejadian yang dicari\n",
        "    event_count = sum(1 for x in data if x in event)  # Menghitung frekuensi kejadian\n",
        "    probability = event_count / total_data if total_data > 0 else 0\n",
        "    print(f\"Frekuensi kejadian {event}: {event_count}\")\n",
        "    print(f\"Probabilitas kejadian {event}: {probability:.2f} ({event_count}/{total_data})\")\n",
        "except ValueError:\n",
        "    print(\"Error: Masukkan angka yang valid untuk kejadian!\")\n",
        "    exit()\n",
        "\n",
        "# c. Menentukan permutasi dan kombinasi\n",
        "print(\"\\nc. Permutasi dan Kombinasi:\")\n",
        "n = len(data_set)  # Jumlah elemen unik\n",
        "try:\n",
        "    r = int(input(f\"Masukkan jumlah elemen yang akan dipilih (r) dari {n} elemen: \"))\n",
        "    if r <= n:\n",
        "        perm_result = perm(n, r)\n",
        "        comb_result = comb(n, r)\n",
        "        print(f\"Permutasi ({n}P{r}): {perm_result}\")\n",
        "        print(f\"Kombinasi ({n}C{r}): {comb_result}\")\n",
        "    else:\n",
        "        print(f\"Nilai r ({r}) tidak boleh lebih besar dari n ({n}).\")\n",
        "except ValueError:\n",
        "    print(\"Error: Masukkan angka yang valid untuk r!\")\n",
        "    exit()\n",
        "\n",
        "# d. Menentukan union, intersection, dan complement\n",
        "print(\"\\nd. Operasi Himpunan:\")\n",
        "print(\"Masukkan dua himpunan untuk operasi union, intersection, dan complement.\")\n",
        "try:\n",
        "    set1_input = input(\"Himpunan 1 (pisahkan dengan spasi, contoh: 1 2 3): \")\n",
        "    set2_input = input(\"Himpunan 2 (pisahkan dengan spasi, contoh: 4 5 6): \")\n",
        "    set1 = set(int(x) for x in set1_input.split())\n",
        "    set2 = set(int(x) for x in set2_input.split())\n",
        "    universal_set = data_set  # Menggunakan data awal sebagai himpunan universal\n",
        "\n",
        "    union = set1.union(set2)\n",
        "    intersection = set1.intersection(set2)\n",
        "    complement_set1 = universal_set - set1  # Complement dari set1 terhadap universal set\n",
        "    complement_set2 = universal_set - set2  # Complement dari set2 terhadap universal set\n",
        "\n",
        "    print(f\"Himpunan Universal (berdasarkan data): {universal_set}\")\n",
        "    print(f\"Himpunan 1: {set1}\")\n",
        "    print(f\"Himpunan 2: {set2}\")\n",
        "    print(f\"Union (Set1 ∪ Set2): {union}\")\n",
        "    print(f\"Intersection (Set1 ∩ Set2): {intersection}\")\n",
        "    print(f\"Complement Set1: {complement_set1}\")\n",
        "    print(f\"Complement Set2: {complement_set2}\")\n",
        "except ValueError:\n",
        "    print(\"Error: Masukkan angka yang valid untuk himpunan!\")\n",
        "    exit()"
      ],
      "metadata": {
        "colab": {
          "base_uri": "https://localhost:8080/"
        },
        "id": "UDVZagceAp6z",
        "outputId": "f4b23898-637c-416c-b294-a40fcecf50aa"
      },
      "execution_count": 5,
      "outputs": [
        {
          "output_type": "stream",
          "name": "stdout",
          "text": [
            "Masukkan data sebagai angka-angka yang dipisahkan oleh spasi (contoh: 1 2 3 4 5):\n",
            "Data: 5 6 7 8 9\n",
            "\n",
            "Data yang dimasukkan: [5, 6, 7, 8, 9]\n",
            "Total elemen: 5\n",
            "\n",
            "b. Probabilitas Kejadian:\n",
            "Masukkan nilai kejadian yang ingin dihitung probabilitasnya (pisahkan dengan spasi, contoh: 2 4): 9 8\n",
            "Frekuensi kejadian [9, 8]: 2\n",
            "Probabilitas kejadian [9, 8]: 0.40 (2/5)\n",
            "\n",
            "c. Permutasi dan Kombinasi:\n",
            "Masukkan jumlah elemen yang akan dipilih (r) dari 5 elemen: 5 6 7 8 9\n",
            "Error: Masukkan angka yang valid untuk r!\n",
            "\n",
            "d. Operasi Himpunan:\n",
            "Masukkan dua himpunan untuk operasi union, intersection, dan complement.\n",
            "Himpunan 1 (pisahkan dengan spasi, contoh: 1 2 3): 5 6 7\n",
            "Himpunan 2 (pisahkan dengan spasi, contoh: 4 5 6): 7 8 9\n",
            "Himpunan Universal (berdasarkan data): {5, 6, 7, 8, 9}\n",
            "Himpunan 1: {5, 6, 7}\n",
            "Himpunan 2: {8, 9, 7}\n",
            "Union (Set1 ∪ Set2): {5, 6, 7, 8, 9}\n",
            "Intersection (Set1 ∩ Set2): {7}\n",
            "Complement Set1: {8, 9}\n",
            "Complement Set2: {5, 6}\n"
          ]
        }
      ]
    },
    {
      "cell_type": "code",
      "source": [
        "from math import exp\n",
        "from scipy.stats import binom, poisson\n",
        "\n",
        "# Binomial Distribution\n",
        "print(\"\\nBinomial Distribution:\")\n",
        "try:\n",
        "    n_binom = int(input(\"Masukkan jumlah percobaan (n): \"))\n",
        "    p_binom = float(input(\"Masukkan probabilitas sukses (p): \"))\n",
        "    k_binom = int(input(\"Masukkan jumlah sukses yang diinginkan (k): \"))\n",
        "    binom_prob = binom.pmf(k_binom, n_binom, p_binom)\n",
        "    print(f\"P(X = {k_binom}) dalam distribusi binomial: {binom_prob:.4f}\")\n",
        "except ValueError:\n",
        "    print(\"Error: Masukkan angka yang valid untuk distribusi binomial!\")\n",
        "    exit()\n",
        "\n",
        "# Poisson Distribution\n",
        "print(\"\\nPoisson Distribution:\")\n",
        "try:\n",
        "    lambda_poisson = float(input(\"Masukkan rata-rata kejadian (λ): \"))\n",
        "    k_poisson = int(input(\"Masukkan jumlah kejadian yang diinginkan (k): \"))\n",
        "    poisson_prob = poisson.pmf(k_poisson, lambda_poisson)\n",
        "    print(f\"P(X = {k_poisson}) dalam distribusi Poisson: {poisson_prob:.4f}\")\n",
        "except ValueError:\n",
        "    print(\"Error: Masukkan angka yang valid untuk distribusi Poisson!\")\n",
        "    exit()\n"
      ],
      "metadata": {
        "colab": {
          "base_uri": "https://localhost:8080/"
        },
        "id": "GJpkjYhXDiJk",
        "outputId": "aef98402-c492-4977-a45e-764f093289d2"
      },
      "execution_count": 3,
      "outputs": [
        {
          "output_type": "stream",
          "name": "stdout",
          "text": [
            "\n",
            "Binomial Distribution:\n",
            "Masukkan jumlah percobaan (n): 5\n",
            "Masukkan probabilitas sukses (p): 4\n",
            "Masukkan jumlah sukses yang diinginkan (k): 2\n",
            "P(X = 2) dalam distribusi binomial: nan\n",
            "\n",
            "Poisson Distribution:\n",
            "Masukkan rata-rata kejadian (λ): 5\n",
            "Masukkan jumlah kejadian yang diinginkan (k): 2\n",
            "P(X = 2) dalam distribusi Poisson: 0.0842\n"
          ]
        }
      ]
    }
  ]
}